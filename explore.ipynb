{
 "cells": [
  {
   "cell_type": "code",
   "execution_count": 1,
   "metadata": {},
   "outputs": [],
   "source": [
    "import requests\n",
    "import time\n",
    "import pandas as pd\n",
    "from api import SearchListings"
   ]
  },
  {
   "cell_type": "code",
   "execution_count": 18,
   "metadata": {},
   "outputs": [],
   "source": [
    "\n",
    "class HomeScraper():\n",
    "    def __init__(self, city):\n",
    "        self.city = city\n",
    "        self.search_api = SearchListings(city)\n",
    "\n",
    "    def download_listings(self):\n",
    "        url = self.search_api.url()\n",
    "        headers = self.search_api.headers()\n",
    "\n",
    "        #use get to pull cookies\n",
    "        get_response = requests.get(url, headers=headers)\n",
    "        assert get_response.status_code == 200, f\"failed get request with status code: {get_response.status_code}\"\n",
    "\n",
    "\n",
    "        #get the count of active listings\n",
    "        time.sleep(5)\n",
    "        payload = self.search_api.payload(maximumListings=10)\n",
    "        post_response = requests.post(url, cookies=get_response.cookies, headers=headers, json=payload)\n",
    "        assert post_response.status_code == 200, f'post request to search listings returned w/ status code: {post_response.status_code}'\n",
    "        response_json = post_response.json()\n",
    "        total_listings = response_json['d']['Count']\n",
    "\n",
    "        # get all active listings\n",
    "        time.sleep(5)\n",
    "        payload = self.search_api.payload(maximumListings=total_listings)\n",
    "        post_response = requests.post(url, cookies=get_response.cookies, headers=headers, json=payload)\n",
    "        assert post_response.status_code == 200, f'post request to search listings returned w/ status code: {post_response.status_code}'\n",
    "        response_json = post_response.json()\n",
    "        listings = pd.json_normalize(response_json['d']['Listings'])\n",
    "        return listings\n",
    "    "
   ]
  },
  {
   "cell_type": "code",
   "execution_count": 19,
   "metadata": {},
   "outputs": [],
   "source": [
    "home_scraper = HomeScraper('Portland, OR')\n",
    "listings = home_scraper.download_listings()"
   ]
  },
  {
   "cell_type": "code",
   "execution_count": 21,
   "metadata": {},
   "outputs": [
    {
     "data": {
      "text/plain": [
       "(1011, 78)"
      ]
     },
     "execution_count": 21,
     "metadata": {},
     "output_type": "execute_result"
    }
   ],
   "source": [
    "pd.set_option('display.max_columns', None)\n",
    "listings.head()\n",
    "listings.shape"
   ]
  },
  {
   "cell_type": "code",
   "execution_count": null,
   "metadata": {},
   "outputs": [],
   "source": []
  },
  {
   "cell_type": "code",
   "execution_count": null,
   "metadata": {},
   "outputs": [],
   "source": [
    "listings.columns"
   ]
  },
  {
   "cell_type": "code",
   "execution_count": null,
   "metadata": {},
   "outputs": [],
   "source": [
    "listings['Listing.ID'][0]"
   ]
  },
  {
   "cell_type": "code",
   "execution_count": null,
   "metadata": {},
   "outputs": [],
   "source": [
    "listings.head(2)"
   ]
  },
  {
   "cell_type": "code",
   "execution_count": null,
   "metadata": {},
   "outputs": [],
   "source": [
    "import requests\n",
    "\n",
    "url = \"https://www.homesnap.com/service/Listings/GetDetails\"\n",
    "\n",
    "payload = {\n",
    "    \"listingID\": 117692827,\n",
    "    \"parts\": 506,\n",
    "    \"schoolsPolygonType\": 1,\n",
    "    \"promo\": {\n",
    "        \"promoCampaign\": None,\n",
    "        \"promoSource\": None,\n",
    "        \"promoMedium\": \"web-xs\",\n",
    "        \"promoTerm\": None,\n",
    "        \"promoContent\": None,\n",
    "        \"promoDate\": None\n",
    "    }\n",
    "}\n",
    "headers = {\n",
    "    \"cookie\": \"ASP.NET_SessionId=yppkigaisg5islm2h142pcqe; SERVERID=web7; User=ID%3D770047381%26Hash%3Dee7d2e74ccd95b24c1a9b1963755545f845602e7\",\n",
    "    \"Connection\": \"keep-alive\",\n",
    "    \"sec-ch-ua\": '\" Not A;Brand\";v=\"99\", \"Chromium\";v=\"99\", \"Google Chrome\";v=\"99\"',\n",
    "    \"Accept\": \"application/json, text/javascript, */*; q=0.01\",\n",
    "    \"Content-Type\": \"application/json; charset=UTF-8\",\n",
    "    \"X-Requested-With\": \"XMLHttpRequest\",\n",
    "    \"sec-ch-ua-mobile\": \"?0\",\n",
    "    \"User-Agent\": \"Mozilla/5.0 (Windows NT 10.0; Win64; x64) AppleWebKit/537.36 (KHTML, like Gecko) Chrome/99.0.4844.82 Safari/537.36\",\n",
    "    \"sec-ch-ua-platform\": '\"Windows\"',\n",
    "    \"Origin\": \"https://www.homesnap.com\",\n",
    "    \"Sec-Fetch-Site\": \"same-origin\",\n",
    "    \"Sec-Fetch-Mode\": \"cors\",\n",
    "    \"Sec-Fetch-Dest\": \"empty\",\n",
    "    \"Referer\": \"https://www.homesnap.com/OR/Portland/136-SE-74th-Avenue\",\n",
    "    \"Accept-Language\": \"en-US,en;q=0.9\",\n",
    "    \"Cookie\": \"_fbp=fb.1.1647876752391.1624983748; _gcl_au=1.1.473135812.1647876752; User=ID=770047381&Hash=ee7d2e74ccd95b24c1a9b1963755545f845602e7; _gid=GA1.2.384448963.1647996657; ASP.NET_SessionId=caudawsn5ys1gq4ldawuqcjd; SERVERID=web7; _gat=1; _ga_SJ09CZBE62=GS1.1.1648098188.7.1.1648099108.0; _ga=GA1.1.1645780538.1647876752\"\n",
    "}\n",
    "\n",
    "response = requests.request(\"POST\", url, json=payload, headers=headers)\n",
    "\n",
    "print(response.json())"
   ]
  },
  {
   "cell_type": "code",
   "execution_count": null,
   "metadata": {},
   "outputs": [],
   "source": [
    "description = response.json()['d']['Remarks']"
   ]
  },
  {
   "cell_type": "code",
   "execution_count": null,
   "metadata": {},
   "outputs": [],
   "source": [
    "details = response.json()['d']['Details']"
   ]
  },
  {
   "cell_type": "code",
   "execution_count": null,
   "metadata": {},
   "outputs": [],
   "source": [
    "json_normalize(details) "
   ]
  }
 ],
 "metadata": {
  "interpreter": {
   "hash": "f2db70108314089b6e4751ee038267274a220cfc846cc3db10a94220317f85ee"
  },
  "kernelspec": {
   "display_name": "Python 3.9.7 ('base')",
   "language": "python",
   "name": "python3"
  },
  "language_info": {
   "codemirror_mode": {
    "name": "ipython",
    "version": 3
   },
   "file_extension": ".py",
   "mimetype": "text/x-python",
   "name": "python",
   "nbconvert_exporter": "python",
   "pygments_lexer": "ipython3",
   "version": "3.9.7"
  },
  "orig_nbformat": 4
 },
 "nbformat": 4,
 "nbformat_minor": 2
}
